{
 "cells": [
  {
   "cell_type": "markdown",
   "metadata": {},
   "source": [
    "# 🖼️ Image Steganography Using Python\n",
    "This project hides a secret message inside an image using Least Significant Bit (LSB) technique."
   ]
  },
  {
   "cell_type": "code",
   "execution_count": null,
   "metadata": {},
   "outputs": [],
   "source": [
    "# Step 1: Install and import libraries\n",
    "!pip install pillow\n",
    "from PIL import Image"
   ]
  },
  {
   "cell_type": "code",
   "execution_count": null,
   "metadata": {},
   "outputs": [],
   "source": [
    "# Step 2: Encode Function\n",
    "def encode_image(image_path, secret_message, output_path="stego_image.png"):\n",
    "    image = Image.open(image_path)\n",
    "    image = image.convert("RGB")\n",
    "    data = list(image.getdata())\n",
    "    binary_message = ''.join(format(ord(c), '08b') for c in secret_message)\n",
    "    binary_message += '1111111111111110'\n",
    "    new_data = []\n",
    "    data_index = 0\n",
    "    for pixel in data:\n",
    "        if data_index < len(binary_message):\n",
    "            r, g, b = pixel\n",
    "            r = r & ~1 | int(binary_message[data_index])\n",
    "            data_index += 1\n",
    "            if data_index < len(binary_message):\n",
    "                g = g & ~1 | int(binary_message[data_index])\n",
    "                data_index += 1\n",
    "            if data_index < len(binary_message):\n",
    "                b = b & ~1 | int(binary_message[data_index])\n",
    "                data_index += 1\n",
    "            new_data.append((r, g, b))\n",
    "        else:\n",
    "            new_data.append(pixel)\n",
    "    encoded_image = Image.new(image.mode, image.size)\n",
    "    encoded_image.putdata(new_data)\n",
    "    encoded_image.save(output_path)\n",
    "    print(f"✅ Secret message encoded and saved as: {output_path}")"
   ]
  },
  {
   "cell_type": "code",
   "execution_count": null,
   "metadata": {},
   "outputs": [],
   "source": [
    "# Step 3: Decode Function\n",
    "def decode_image(image_path):\n",
    "    image = Image.open(image_path)\n",
    "    image = image.convert("RGB")\n",
    "    data = list(image.getdata())\n",
    "    binary_message = ""\n",
    "    for pixel in data:\n",
    "        for color in pixel:\n",
    "            binary_message += str(color & 1)\n",
    "    bytes_list = [binary_message[i:i+8] for i in range(0, len(binary_message), 8)]\n",
    "    decoded_text = ""\n",
    "    for byte in bytes_list:\n",
    "        if byte == '11111110':\n",
    "            break\n",
    "        decoded_text += chr(int(byte, 2))\n",
    "    return decoded_text"
   ]
  },
  {
   "cell_type": "code",
   "execution_count": null,
   "metadata": {},
   "outputs": [],
   "source": [
    "# Step 4: Test Encoding\n",
    "encode_image("input.png", "Hello, Charan! This is secret.", "stego_image.png")"
   ]
  },
  {
   "cell_type": "code",
   "execution_count": null,
   "metadata": {},
   "outputs": [],
   "source": [
    "# Step 5: Test Decoding\n",
    "message = decode_image("stego_image.png")\n",
    "print("🔓 Hidden Message:", message)"
   ]
  }
 ],
 "metadata": {
  "kernelspec": {
   "display_name": "Python 3",
   "language": "python",
   "name": "python3"
  },
  "language_info": {
   "name": "python",
   "version": "3.11"
  }
 },
 "nbformat": 4,
 "nbformat_minor": 2
}